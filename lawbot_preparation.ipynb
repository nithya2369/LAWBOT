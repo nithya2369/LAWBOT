{
 "cells": [
  {
   "cell_type": "code",
   "execution_count": null,
   "id": "aae7307d",
   "metadata": {
    "vscode": {
     "languageId": "plaintext"
    }
   },
   "outputs": [],
   "source": [
    "import os\n",
    "from langchain.document_loaders import PyPDFLoader\n",
    "from langchain.text_splitter import RecursiveCharacterTextSplitter\n",
    "from langchain.vectorstores import FAISS\n",
    "from langchain.embeddings import HuggingFaceEmbeddings\n",
    "import pickle\n",
    "\n",
    "# # Define the folder containing PDF files\n",
    "pdf_folder = \"./Datasets\"  # Update with your folder path\n",
    "\n",
    "# # Get all PDF files from the folder\n",
    "pdf_files = [os.path.join(pdf_folder, file) for file in os.listdir(pdf_folder) if file.endswith(\".pdf\")]\n",
    "\n",
    "# # Load documents from PDFs\n",
    "documents = []\n",
    "for pdf_file in pdf_files:\n",
    "    loader = PyPDFLoader(pdf_file)\n",
    "    documents.extend(loader.load())\n",
    "\n",
    "# # Split the documents into chunks\n",
    "text_splitter = RecursiveCharacterTextSplitter(chunk_size=500, chunk_overlap=30)\n",
    "chunks = text_splitter.split_documents(documents)\n",
    "\n",
    "# # Embedding function\n",
    "\n",
    "embedding_function = HuggingFaceEmbeddings(show_progress=True, multi_process=True)\n",
    "\n",
    "# # Create FAISS vector store\n",
    "vector_store = FAISS.from_documents(chunks, embedding_function)\n",
    "\n",
    "# # Save the FAISS index\n",
    "faiss_folder = \"./faiss_index\"\n",
    "os.makedirs(faiss_folder, exist_ok=True)\n",
    "faiss_index_path = os.path.join(faiss_folder, \"faiss_index\")\n",
    "vector_store.save_local(faiss_index_path)\n",
    "\n",
    "# # Save the embeddings separately (optional)\n",
    "with open(os.path.join(faiss_folder, \"faiss_embeddings.pkl\"), \"wb\") as f:\n",
    "    pickle.dump(embedding_function, f)"
   ]
  }
 ],
 "metadata": {
  "language_info": {
   "name": "python"
  }
 },
 "nbformat": 4,
 "nbformat_minor": 5
}
